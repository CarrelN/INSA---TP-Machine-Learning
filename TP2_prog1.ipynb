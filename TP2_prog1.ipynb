{
 "cells": [
  {
   "cell_type": "code",
   "execution_count": 2,
   "metadata": {},
   "outputs": [],
   "source": [
    "# partie [1]\n",
    "\n",
    "from sklearn.datasets import fetch_openml\n",
    "from sklearn import datasets\n",
    "from sklearn import neighbors\n",
    "from sklearn import model_selection\n",
    "from sklearn.neural_network import MLPClassifier\n",
    "import matplotlib.pyplot as plt\n",
    "import numpy as np\n",
    "import time\n",
    "\n",
    "mnist = fetch_openml('mnist_784')\n"
   ]
  },
  {
   "cell_type": "code",
   "execution_count": 4,
   "metadata": {},
   "outputs": [],
   "source": [
    "# partie [2]\n",
    "\n",
    "xtrain, xtest, ytrain, ytest = model_selection.train_test_split(mnist.data, mnist.target, train_size=0.7)"
   ]
  },
  {
   "cell_type": "code",
   "execution_count": 3,
   "metadata": {},
   "outputs": [
    {
     "name": "stdout",
     "output_type": "stream",
     "text": [
      "0.9486190476190476\n"
     ]
    }
   ],
   "source": [
    "# partie [3]\n",
    "\n",
    "modele = MLPClassifier(hidden_layer_sizes = (50))\n",
    "modele.fit(xtrain,ytrain)\n",
    "print(modele.score(xtest,ytest))\n"
   ]
  },
  {
   "cell_type": "code",
   "execution_count": 5,
   "metadata": {},
   "outputs": [
    {
     "name": "stdout",
     "output_type": "stream",
     "text": [
      "Chiffre prédit = 8\n",
      "Etiquette = 8\n"
     ]
    }
   ],
   "source": [
    "# partie [4]\n",
    "\n",
    "result = modele.predict(xtest)\n",
    "print(\"Chiffre prédit =\", result[4])\n",
    "print(\"Etiquette =\", ytest[4])"
   ]
  },
  {
   "cell_type": "code",
   "execution_count": 9,
   "metadata": {},
   "outputs": [
    {
     "name": "stdout",
     "output_type": "stream",
     "text": [
      "Train time 2  couches de 50 = 77.16078591346741 s\n",
      "Score pour 2 couches de 50 neurones = 0.953952380952381\n",
      "Train time 10  couches de 50 = 77.90520191192627 s\n",
      "Score pour 10 couches de 50 neurones = 0.967047619047619\n",
      "Train time 20  couches de 50 = 69.76663541793823 s\n",
      "Score pour 20 couches de 50 neurones = 0.9668095238095238\n",
      "Train time 30  couches de 50 = 52.14530396461487 s\n",
      "Score pour 30 couches de 50 neurones = 0.9558095238095238\n",
      "Train time 40  couches de 50 = 62.716935873031616 s\n",
      "Score pour 40 couches de 50 neurones = 0.778\n",
      "Train time 50  couches de 50 = 41.94665884971619 s\n",
      "Score pour 50 couches de 50 neurones = 0.6977142857142857\n"
     ]
    }
   ],
   "source": [
    "# partie [5]\n",
    "\n",
    "layers = []\n",
    "nb_couches = [2,10,20,30,40,50]\n",
    "for i in nb_couches :\n",
    "    for j in range(i):\n",
    "        layers.append(50)\n",
    "        \n",
    "    modele = MLPClassifier(hidden_layer_sizes = layers)\n",
    "    \n",
    "    t1 = time.time()\n",
    "    modele.fit(xtrain,ytrain)\n",
    "    t2 = time.time()\n",
    "\n",
    "    train_time_nb_couches = t2-t1\n",
    "    print(\"Train time\", i,\"couches de 50 =\", train_time_nb_couches, \"s\")\n",
    "    \n",
    "    score_nb_couches = modele.score(xtest,ytest)\n",
    "    print(\"Score pour\", i, \"couches de 50 neurones =\", score_nb_couches)\n",
    "    \n",
    "    layers = []"
   ]
  },
  {
   "cell_type": "code",
   "execution_count": 5,
   "metadata": {},
   "outputs": [
    {
     "name": "stdout",
     "output_type": "stream",
     "text": [
      "SGD : Train time pour 10 couches = 57.53407287597656\n",
      "SGD : Score pour 10 couches = 0.9601428571428572\n"
     ]
    }
   ],
   "source": [
    "# partie [6]\n",
    "\n",
    "layers = []\n",
    "nb_couches = 10\n",
    "for i in range(nb_couches):\n",
    "    layers.append(50)\n",
    "    \n",
    "modele = MLPClassifier(hidden_layer_sizes = layers, solver = 'sgd')\n",
    "\n",
    "t1 = time.time()\n",
    "modele.fit(xtrain,ytrain)\n",
    "t2 = time.time()\n",
    "\n",
    "train_time_10_couches_sgd = t2-t1\n",
    "print(\"SGD : Train time pour\", nb_couches, \"couches =\", train_time_10_couches_sgd)\n",
    "\n",
    "score_10_couches_sgd = modele.score(xtest,ytest)\n",
    "print(\"SGD : Score pour\", nb_couches, \"couches =\", score_10_couches_sgd)"
   ]
  },
  {
   "cell_type": "code",
   "execution_count": 6,
   "metadata": {},
   "outputs": [
    {
     "name": "stdout",
     "output_type": "stream",
     "text": [
      "L-BFGS : Train time pour 10 couches = 56.82968997955322\n",
      "L-BFGS : Score pour 10 couches = 0.9495238095238095\n"
     ]
    }
   ],
   "source": [
    "# partie [7]\n",
    "\n",
    "layers = []\n",
    "nb_couches = 10\n",
    "for i in range(nb_couches):\n",
    "    layers.append(50)\n",
    "    \n",
    "modele = MLPClassifier(hidden_layer_sizes = layers, solver = 'lbfgs')\n",
    "\n",
    "t1 = time.time()\n",
    "modele.fit(xtrain,ytrain)\n",
    "t2 = time.time()\n",
    "\n",
    "train_time_10_couches_lbfgs = t2-t1\n",
    "print(\"L-BFGS : Train time pour\", nb_couches, \"couches =\", train_time_10_couches_lbfgs)\n",
    "\n",
    "score_10_couches_lbfgs = modele.score(xtest,ytest)\n",
    "print(\"L-BFGS : Score pour\", nb_couches, \"couches =\", score_10_couches_lbfgs)"
   ]
  },
  {
   "cell_type": "code",
   "execution_count": 7,
   "metadata": {},
   "outputs": [
    {
     "name": "stdout",
     "output_type": "stream",
     "text": [
      "Adam / identity : Train time pour 10 couches = 89.34863710403442\n",
      "Adam / identity : Score pour 10 couches = 0.9058571428571428\n"
     ]
    }
   ],
   "source": [
    "# partie [8]\n",
    "\n",
    "layers = []\n",
    "nb_couches = 10\n",
    "for i in range(nb_couches):\n",
    "    layers.append(50)\n",
    "    \n",
    "modele = MLPClassifier(activation = 'identity', hidden_layer_sizes = layers, solver = 'adam')\n",
    "\n",
    "t1 = time.time()\n",
    "modele.fit(xtrain,ytrain)\n",
    "t2 = time.time()\n",
    "\n",
    "train_time_10_couches_adam_identity = t2-t1\n",
    "print(\"Adam / identity : Train time pour\", nb_couches, \"couches =\", train_time_10_couches_adam_identity)\n",
    "\n",
    "score_10_couches_adam_identity = modele.score(xtest,ytest)\n",
    "print(\"Adam / identity : Score pour\", nb_couches, \"couches =\", score_10_couches_adam_identity)"
   ]
  },
  {
   "cell_type": "code",
   "execution_count": 8,
   "metadata": {},
   "outputs": [
    {
     "name": "stdout",
     "output_type": "stream",
     "text": [
      "Adam / logistic : Train time pour 10 couches = 31.663936614990234\n",
      "Adam / logistic : Score pour 10 couches = 0.1128095238095238\n"
     ]
    }
   ],
   "source": [
    "# partie [9]\n",
    "\n",
    "layers = []\n",
    "nb_couches = 10\n",
    "for i in range(nb_couches):\n",
    "    layers.append(50)\n",
    "    \n",
    "modele = MLPClassifier(activation = 'logistic', hidden_layer_sizes = layers, solver = 'adam')\n",
    "\n",
    "t1 = time.time()\n",
    "modele.fit(xtrain,ytrain)\n",
    "t2 = time.time()\n",
    "\n",
    "train_time_10_couches_adam_logistic = t2-t1\n",
    "print(\"Adam / logistic : Train time pour\", nb_couches, \"couches =\", train_time_10_couches_adam_logistic)\n",
    "\n",
    "score_10_couches_adam_logistic = modele.score(xtest,ytest)\n",
    "print(\"Adam / logistic : Score pour\", nb_couches, \"couches =\", score_10_couches_adam_logistic)"
   ]
  },
  {
   "cell_type": "code",
   "execution_count": 10,
   "metadata": {},
   "outputs": [
    {
     "name": "stdout",
     "output_type": "stream",
     "text": [
      "Adam / tanh : Train time pour 10 couches = 36.67451596260071\n",
      "Adam / tanh : Score pour 10 couches = 0.930047619047619\n"
     ]
    }
   ],
   "source": [
    "# partie [10]\n",
    "\n",
    "layers = []\n",
    "nb_couches = 10\n",
    "for i in range(nb_couches):\n",
    "    layers.append(50)\n",
    "    \n",
    "modele = MLPClassifier(activation = 'tanh', hidden_layer_sizes = layers, solver = 'adam')\n",
    "\n",
    "t1 = time.time()\n",
    "modele.fit(xtrain,ytrain)\n",
    "t2 = time.time()\n",
    "\n",
    "train_time_10_couches_adam_tanh = t2-t1\n",
    "print(\"Adam / tanh : Train time pour\", nb_couches, \"couches =\", train_time_10_couches_adam_tanh)\n",
    "\n",
    "score_10_couches_adam_tanh = modele.score(xtest,ytest)\n",
    "print(\"Adam / tanh : Score pour\", nb_couches, \"couches =\", score_10_couches_adam_tanh)"
   ]
  },
  {
   "cell_type": "code",
   "execution_count": 11,
   "metadata": {},
   "outputs": [
    {
     "name": "stdout",
     "output_type": "stream",
     "text": [
      "Adam / relu : Train time pour 10 couches = 53.43171405792236\n",
      "Adam / relu : Score pour 10 couches = 0.9623809523809523\n"
     ]
    }
   ],
   "source": [
    "# partie [11]\n",
    "\n",
    "layers = []\n",
    "nb_couches = 10\n",
    "for i in range(nb_couches):\n",
    "    layers.append(50)\n",
    "    \n",
    "modele = MLPClassifier(activation = 'relu', hidden_layer_sizes = layers, solver = 'adam')\n",
    "\n",
    "t1 = time.time()\n",
    "modele.fit(xtrain,ytrain)\n",
    "t2 = time.time()\n",
    "\n",
    "train_time_10_couches_adam_relu = t2-t1\n",
    "print(\"Adam / relu : Train time pour\", nb_couches, \"couches =\", train_time_10_couches_adam_relu)\n",
    "\n",
    "score_10_couches_adam_relu = modele.score(xtest,ytest)\n",
    "print(\"Adam / relu : Score pour\", nb_couches, \"couches =\", score_10_couches_adam_relu)"
   ]
  },
  {
   "cell_type": "code",
   "execution_count": 57,
   "metadata": {},
   "outputs": [
    {
     "name": "stdout",
     "output_type": "stream",
     "text": [
      "10 couches de 50 neurones Adam relu: 0.9719047619047619 (alpha = 0.0001 )\n",
      "10 couches de 50 neurones Adam relu: 0.9721904761904762 (alpha = 0.001 )\n",
      "10 couches de 50 neurones Adam relu: 0.9722857142857143 (alpha = 0.01 )\n",
      "10 couches de 50 neurones Adam relu: 0.9722380952380952 (alpha = 0.1 )\n"
     ]
    }
   ],
   "source": [
    "# partie [12]\n",
    "\n",
    "layers = []\n",
    "nb_couches = 10\n",
    "\n",
    "for i in range(nb_couches):\n",
    "    layers.append(50)\n",
    "    \n",
    "\n",
    "for a in np.array([0.0001,0.001,0.01,0.1]):\n",
    "    modele = MLPClassifier(activation = 'relu', alpha=a, hidden_layer_sizes = layers, solver = 'adam')\n",
    "    modele.fit(xtrain,ytrain)\n",
    "\n",
    "    score_10_couches_de_50_adam_relu = modele.score(xtest,ytest)\n",
    "    print(nb_couches,\"couches de 50 neurones Adam relu:\", score_10_couches_de_50_adam_relu, \"(alpha =\",a,\")\")"
   ]
  },
  {
   "cell_type": "code",
   "execution_count": null,
   "metadata": {},
   "outputs": [],
   "source": []
  }
 ],
 "metadata": {
  "kernelspec": {
   "display_name": "Python 3",
   "language": "python",
   "name": "python3"
  },
  "language_info": {
   "codemirror_mode": {
    "name": "ipython",
    "version": 3
   },
   "file_extension": ".py",
   "mimetype": "text/x-python",
   "name": "python",
   "nbconvert_exporter": "python",
   "pygments_lexer": "ipython3",
   "version": "3.7.3"
  },
  "latex_envs": {
   "LaTeX_envs_menu_present": true,
   "autoclose": false,
   "autocomplete": true,
   "bibliofile": "biblio.bib",
   "cite_by": "apalike",
   "current_citInitial": 1,
   "eqLabelWithNumbers": true,
   "eqNumInitial": 1,
   "hotkeys": {
    "equation": "Ctrl-E",
    "itemize": "Ctrl-I"
   },
   "labels_anchors": false,
   "latex_user_defs": false,
   "report_style_numbering": false,
   "user_envs_cfg": false
  }
 },
 "nbformat": 4,
 "nbformat_minor": 2
}
