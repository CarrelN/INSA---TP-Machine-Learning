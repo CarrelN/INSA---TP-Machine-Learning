{
 "cells": [
  {
   "cell_type": "code",
   "execution_count": 1,
   "metadata": {},
   "outputs": [],
   "source": [
    "from sklearn.datasets import fetch_openml\n",
    "from sklearn import datasets\n",
    "from sklearn import neighbors\n",
    "from sklearn import model_selection\n",
    "import matplotlib.pyplot as plt\n",
    "import numpy as np\n",
    "\n",
    "mnist = fetch_openml('mnist_784')\n",
    "jeuDeTest = np.random.randint(70000, size=5000)\n",
    "trainData = mnist.data[jeuDeTest]\n",
    "trainTarget = mnist.target[jeuDeTest]\n"
   ]
  },
  {
   "cell_type": "code",
   "execution_count": 2,
   "metadata": {},
   "outputs": [
    {
     "name": "stdout",
     "output_type": "stream",
     "text": [
      "2 voisins : 0.909\n",
      "3 voisins : 0.925\n",
      "4 voisins : 0.925\n",
      "5 voisins : 0.92\n",
      "6 voisins : 0.917\n",
      "7 voisins : 0.913\n",
      "8 voisins : 0.921\n",
      "9 voisins : 0.916\n",
      "10 voisins : 0.919\n",
      "11 voisins : 0.921\n",
      "12 voisins : 0.918\n",
      "13 voisins : 0.916\n",
      "14 voisins : 0.917\n",
      "15 voisins : 0.913\n"
     ]
    }
   ],
   "source": [
    "#Variation du nombre de voisins\n",
    "\n",
    "xtrain, xtest, ytrain, ytest = model_selection.train_test_split(trainData, trainTarget, train_size=0.8)\n",
    "\n",
    "for i in range(2,16):\n",
    "    clf = neighbors.KNeighborsClassifier(i)#i correspond au nombre de voisins \n",
    "    clf.fit(xtrain,ytrain)\n",
    "    print(i,\"voisins :\", clf.score(xtest,ytest))"
   ]
  },
  {
   "cell_type": "code",
   "execution_count": 6,
   "metadata": {},
   "outputs": [
    {
     "name": "stdout",
     "output_type": "stream",
     "text": [
      "10 % utilisés pour le train : 0.8333333333333334\n",
      "20 % utilisés pour le train : 0.86875\n",
      "30 % utilisés pour le train : 0.8965714285714286\n",
      "40 % utilisés pour le train : 0.9063333333333333\n",
      "50 % utilisés pour le train : 0.9116\n",
      "60 % utilisés pour le train : 0.915\n",
      "70 % utilisés pour le train : 0.924\n",
      "80 % utilisés pour le train : 0.935\n",
      "90 % utilisés pour le train : 0.934\n"
     ]
    }
   ],
   "source": [
    "for j in range(1,10):#i est le pourcentage entre train et test\n",
    "    xtrain, xtest, ytrain, ytest = model_selection.train_test_split(trainData, trainTarget, train_size=j/10)\n",
    "    clf = neighbors.KNeighborsClassifier(4)#4 meilleur nombre de voisins \n",
    "    clf.fit(xtrain,ytrain)\n",
    "    print(j*10,\"% utilisés pour le train :\", clf.score(xtest,ytest))"
   ]
  },
  {
   "cell_type": "code",
   "execution_count": 9,
   "metadata": {},
   "outputs": [
    {
     "name": "stdout",
     "output_type": "stream",
     "text": [
      "1 , distance entre deux points : 0.903\n",
      "2 , distance entre deux points : 0.913\n",
      "3 , distance entre deux points : 0.914\n",
      "4 , distance entre deux points : 0.92\n",
      "5 , distance entre deux points : 0.921\n",
      "6 , distance entre deux points : 0.918\n",
      "7 , distance entre deux points : 0.924\n",
      "8 , distance entre deux points : 0.922\n",
      "9 , distance entre deux points : 0.922\n",
      "10 , distance entre deux points : 0.921\n"
     ]
    }
   ],
   "source": [
    "xtrain, xtest, ytrain, ytest = model_selection.train_test_split(trainData, trainTarget, train_size=0.8)\n",
    "\n",
    "for j in range(1,11):\n",
    "    clf = neighbors.KNeighborsClassifier(4,p=j)#j la distance entre deux points\n",
    "    clf.fit(xtrain,ytrain)\n",
    "    print(j,\", distance entre deux points :\", clf.score(xtest,ytest))"
   ]
  },
  {
   "cell_type": "code",
   "execution_count": 10,
   "metadata": {},
   "outputs": [
    {
     "name": "stdout",
     "output_type": "stream",
     "text": [
      "score n_job=1 : 0.933\n",
      "time n_job=1 : 34.351948976516724\n",
      "score n_job=-1 : 0.927\n",
      "time n_job=-1 : 15.464780807495117\n"
     ]
    }
   ],
   "source": [
    "import time\n",
    "xtrain, xtest, ytrain, ytest = model_selection.train_test_split(trainData, trainTarget, train_size=0.8)\n",
    "\n",
    "clf = neighbors.KNeighborsClassifier(4,p=7,n_jobs=1)\n",
    "clf.fit(xtrain,ytrain)\n",
    "t1 = time.time()\n",
    "print(\"score n_job=1 :\", clf.score(xtest,ytest))\n",
    "t2 = time.time()\n",
    "print(\"time n_job=1 :\",t2-t1)\n",
    "\n",
    "clf = neighbors.KNeighborsClassifier(8,p=7,n_jobs=-1)\n",
    "clf.fit(xtrain,ytrain)\n",
    "t1 = time.time()\n",
    "print(\"score n_job=-1 :\", clf.score(xtest,ytest))\n",
    "t2 = time.time()\n",
    "print(\"time n_job=-1 :\",t2-t1)"
   ]
  }
 ],
 "metadata": {
  "celltoolbar": "Éditer les Méta-Données",
  "kernelspec": {
   "display_name": "Python 3",
   "language": "python",
   "name": "python3"
  },
  "language_info": {
   "codemirror_mode": {
    "name": "ipython",
    "version": 3
   },
   "file_extension": ".py",
   "mimetype": "text/x-python",
   "name": "python",
   "nbconvert_exporter": "python",
   "pygments_lexer": "ipython3",
   "version": "3.7.5"
  }
 },
 "nbformat": 4,
 "nbformat_minor": 2
}
